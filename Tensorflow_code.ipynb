{
  "nbformat": 4,
  "nbformat_minor": 0,
  "metadata": {
    "colab": {
      "provenance": []
    },
    "kernelspec": {
      "name": "python3",
      "display_name": "Python 3"
    },
    "language_info": {
      "name": "python"
    }
  },
  "cells": [
    {
      "cell_type": "code",
      "execution_count": 1,
      "metadata": {
        "id": "YnGjxzwtvzUy"
      },
      "outputs": [],
      "source": [
        "import numpy as np\n",
        "import pandas as pd\n",
        "import matplotlib.pyplot as plt\n",
        "import seaborn as sns"
      ]
    },
    {
      "cell_type": "code",
      "source": [
        "df = pd.read_csv('train-smoking.csv')\n",
        "df.head()"
      ],
      "metadata": {
        "colab": {
          "base_uri": "https://localhost:8080/",
          "height": 273
        },
        "id": "d-onsyiRw-Xz",
        "outputId": "1f073639-6d21-4cfb-e3f1-6d23b7af3a56"
      },
      "execution_count": 2,
      "outputs": [
        {
          "output_type": "execute_result",
          "data": {
            "text/plain": [
              "   id  age  height(cm)  weight(kg)  waist(cm)  eyesight(left)  \\\n",
              "0   0   55         165          60       81.0             0.5   \n",
              "1   1   70         165          65       89.0             0.6   \n",
              "2   2   20         170          75       81.0             0.4   \n",
              "3   3   35         180          95      105.0             1.5   \n",
              "4   4   30         165          60       80.5             1.5   \n",
              "\n",
              "   eyesight(right)  hearing(left)  hearing(right)  systolic  ...  HDL  LDL  \\\n",
              "0              0.6              1               1       135  ...   40   75   \n",
              "1              0.7              2               2       146  ...   57  126   \n",
              "2              0.5              1               1       118  ...   45   93   \n",
              "3              1.2              1               1       131  ...   38  102   \n",
              "4              1.0              1               1       121  ...   44   93   \n",
              "\n",
              "   hemoglobin  Urine protein  serum creatinine  AST  ALT  Gtp  dental caries  \\\n",
              "0        16.5              1               1.0   22   25   27              0   \n",
              "1        16.2              1               1.1   27   23   37              1   \n",
              "2        17.4              1               0.8   27   31   53              0   \n",
              "3        15.9              1               1.0   20   27   30              1   \n",
              "4        15.4              1               0.8   19   13   17              0   \n",
              "\n",
              "   smoking  \n",
              "0        1  \n",
              "1        0  \n",
              "2        1  \n",
              "3        0  \n",
              "4        1  \n",
              "\n",
              "[5 rows x 24 columns]"
            ],
            "text/html": [
              "\n",
              "  <div id=\"df-2cfba972-4d86-4d2c-8738-82f31d1ad94e\" class=\"colab-df-container\">\n",
              "    <div>\n",
              "<style scoped>\n",
              "    .dataframe tbody tr th:only-of-type {\n",
              "        vertical-align: middle;\n",
              "    }\n",
              "\n",
              "    .dataframe tbody tr th {\n",
              "        vertical-align: top;\n",
              "    }\n",
              "\n",
              "    .dataframe thead th {\n",
              "        text-align: right;\n",
              "    }\n",
              "</style>\n",
              "<table border=\"1\" class=\"dataframe\">\n",
              "  <thead>\n",
              "    <tr style=\"text-align: right;\">\n",
              "      <th></th>\n",
              "      <th>id</th>\n",
              "      <th>age</th>\n",
              "      <th>height(cm)</th>\n",
              "      <th>weight(kg)</th>\n",
              "      <th>waist(cm)</th>\n",
              "      <th>eyesight(left)</th>\n",
              "      <th>eyesight(right)</th>\n",
              "      <th>hearing(left)</th>\n",
              "      <th>hearing(right)</th>\n",
              "      <th>systolic</th>\n",
              "      <th>...</th>\n",
              "      <th>HDL</th>\n",
              "      <th>LDL</th>\n",
              "      <th>hemoglobin</th>\n",
              "      <th>Urine protein</th>\n",
              "      <th>serum creatinine</th>\n",
              "      <th>AST</th>\n",
              "      <th>ALT</th>\n",
              "      <th>Gtp</th>\n",
              "      <th>dental caries</th>\n",
              "      <th>smoking</th>\n",
              "    </tr>\n",
              "  </thead>\n",
              "  <tbody>\n",
              "    <tr>\n",
              "      <th>0</th>\n",
              "      <td>0</td>\n",
              "      <td>55</td>\n",
              "      <td>165</td>\n",
              "      <td>60</td>\n",
              "      <td>81.0</td>\n",
              "      <td>0.5</td>\n",
              "      <td>0.6</td>\n",
              "      <td>1</td>\n",
              "      <td>1</td>\n",
              "      <td>135</td>\n",
              "      <td>...</td>\n",
              "      <td>40</td>\n",
              "      <td>75</td>\n",
              "      <td>16.5</td>\n",
              "      <td>1</td>\n",
              "      <td>1.0</td>\n",
              "      <td>22</td>\n",
              "      <td>25</td>\n",
              "      <td>27</td>\n",
              "      <td>0</td>\n",
              "      <td>1</td>\n",
              "    </tr>\n",
              "    <tr>\n",
              "      <th>1</th>\n",
              "      <td>1</td>\n",
              "      <td>70</td>\n",
              "      <td>165</td>\n",
              "      <td>65</td>\n",
              "      <td>89.0</td>\n",
              "      <td>0.6</td>\n",
              "      <td>0.7</td>\n",
              "      <td>2</td>\n",
              "      <td>2</td>\n",
              "      <td>146</td>\n",
              "      <td>...</td>\n",
              "      <td>57</td>\n",
              "      <td>126</td>\n",
              "      <td>16.2</td>\n",
              "      <td>1</td>\n",
              "      <td>1.1</td>\n",
              "      <td>27</td>\n",
              "      <td>23</td>\n",
              "      <td>37</td>\n",
              "      <td>1</td>\n",
              "      <td>0</td>\n",
              "    </tr>\n",
              "    <tr>\n",
              "      <th>2</th>\n",
              "      <td>2</td>\n",
              "      <td>20</td>\n",
              "      <td>170</td>\n",
              "      <td>75</td>\n",
              "      <td>81.0</td>\n",
              "      <td>0.4</td>\n",
              "      <td>0.5</td>\n",
              "      <td>1</td>\n",
              "      <td>1</td>\n",
              "      <td>118</td>\n",
              "      <td>...</td>\n",
              "      <td>45</td>\n",
              "      <td>93</td>\n",
              "      <td>17.4</td>\n",
              "      <td>1</td>\n",
              "      <td>0.8</td>\n",
              "      <td>27</td>\n",
              "      <td>31</td>\n",
              "      <td>53</td>\n",
              "      <td>0</td>\n",
              "      <td>1</td>\n",
              "    </tr>\n",
              "    <tr>\n",
              "      <th>3</th>\n",
              "      <td>3</td>\n",
              "      <td>35</td>\n",
              "      <td>180</td>\n",
              "      <td>95</td>\n",
              "      <td>105.0</td>\n",
              "      <td>1.5</td>\n",
              "      <td>1.2</td>\n",
              "      <td>1</td>\n",
              "      <td>1</td>\n",
              "      <td>131</td>\n",
              "      <td>...</td>\n",
              "      <td>38</td>\n",
              "      <td>102</td>\n",
              "      <td>15.9</td>\n",
              "      <td>1</td>\n",
              "      <td>1.0</td>\n",
              "      <td>20</td>\n",
              "      <td>27</td>\n",
              "      <td>30</td>\n",
              "      <td>1</td>\n",
              "      <td>0</td>\n",
              "    </tr>\n",
              "    <tr>\n",
              "      <th>4</th>\n",
              "      <td>4</td>\n",
              "      <td>30</td>\n",
              "      <td>165</td>\n",
              "      <td>60</td>\n",
              "      <td>80.5</td>\n",
              "      <td>1.5</td>\n",
              "      <td>1.0</td>\n",
              "      <td>1</td>\n",
              "      <td>1</td>\n",
              "      <td>121</td>\n",
              "      <td>...</td>\n",
              "      <td>44</td>\n",
              "      <td>93</td>\n",
              "      <td>15.4</td>\n",
              "      <td>1</td>\n",
              "      <td>0.8</td>\n",
              "      <td>19</td>\n",
              "      <td>13</td>\n",
              "      <td>17</td>\n",
              "      <td>0</td>\n",
              "      <td>1</td>\n",
              "    </tr>\n",
              "  </tbody>\n",
              "</table>\n",
              "<p>5 rows × 24 columns</p>\n",
              "</div>\n",
              "    <div class=\"colab-df-buttons\">\n",
              "\n",
              "  <div class=\"colab-df-container\">\n",
              "    <button class=\"colab-df-convert\" onclick=\"convertToInteractive('df-2cfba972-4d86-4d2c-8738-82f31d1ad94e')\"\n",
              "            title=\"Convert this dataframe to an interactive table.\"\n",
              "            style=\"display:none;\">\n",
              "\n",
              "  <svg xmlns=\"http://www.w3.org/2000/svg\" height=\"24px\" viewBox=\"0 -960 960 960\">\n",
              "    <path d=\"M120-120v-720h720v720H120Zm60-500h600v-160H180v160Zm220 220h160v-160H400v160Zm0 220h160v-160H400v160ZM180-400h160v-160H180v160Zm440 0h160v-160H620v160ZM180-180h160v-160H180v160Zm440 0h160v-160H620v160Z\"/>\n",
              "  </svg>\n",
              "    </button>\n",
              "\n",
              "  <style>\n",
              "    .colab-df-container {\n",
              "      display:flex;\n",
              "      gap: 12px;\n",
              "    }\n",
              "\n",
              "    .colab-df-convert {\n",
              "      background-color: #E8F0FE;\n",
              "      border: none;\n",
              "      border-radius: 50%;\n",
              "      cursor: pointer;\n",
              "      display: none;\n",
              "      fill: #1967D2;\n",
              "      height: 32px;\n",
              "      padding: 0 0 0 0;\n",
              "      width: 32px;\n",
              "    }\n",
              "\n",
              "    .colab-df-convert:hover {\n",
              "      background-color: #E2EBFA;\n",
              "      box-shadow: 0px 1px 2px rgba(60, 64, 67, 0.3), 0px 1px 3px 1px rgba(60, 64, 67, 0.15);\n",
              "      fill: #174EA6;\n",
              "    }\n",
              "\n",
              "    .colab-df-buttons div {\n",
              "      margin-bottom: 4px;\n",
              "    }\n",
              "\n",
              "    [theme=dark] .colab-df-convert {\n",
              "      background-color: #3B4455;\n",
              "      fill: #D2E3FC;\n",
              "    }\n",
              "\n",
              "    [theme=dark] .colab-df-convert:hover {\n",
              "      background-color: #434B5C;\n",
              "      box-shadow: 0px 1px 3px 1px rgba(0, 0, 0, 0.15);\n",
              "      filter: drop-shadow(0px 1px 2px rgba(0, 0, 0, 0.3));\n",
              "      fill: #FFFFFF;\n",
              "    }\n",
              "  </style>\n",
              "\n",
              "    <script>\n",
              "      const buttonEl =\n",
              "        document.querySelector('#df-2cfba972-4d86-4d2c-8738-82f31d1ad94e button.colab-df-convert');\n",
              "      buttonEl.style.display =\n",
              "        google.colab.kernel.accessAllowed ? 'block' : 'none';\n",
              "\n",
              "      async function convertToInteractive(key) {\n",
              "        const element = document.querySelector('#df-2cfba972-4d86-4d2c-8738-82f31d1ad94e');\n",
              "        const dataTable =\n",
              "          await google.colab.kernel.invokeFunction('convertToInteractive',\n",
              "                                                    [key], {});\n",
              "        if (!dataTable) return;\n",
              "\n",
              "        const docLinkHtml = 'Like what you see? Visit the ' +\n",
              "          '<a target=\"_blank\" href=https://colab.research.google.com/notebooks/data_table.ipynb>data table notebook</a>'\n",
              "          + ' to learn more about interactive tables.';\n",
              "        element.innerHTML = '';\n",
              "        dataTable['output_type'] = 'display_data';\n",
              "        await google.colab.output.renderOutput(dataTable, element);\n",
              "        const docLink = document.createElement('div');\n",
              "        docLink.innerHTML = docLinkHtml;\n",
              "        element.appendChild(docLink);\n",
              "      }\n",
              "    </script>\n",
              "  </div>\n",
              "\n",
              "\n",
              "<div id=\"df-2f71ec29-f333-4ed7-ab02-e01e39c9c740\">\n",
              "  <button class=\"colab-df-quickchart\" onclick=\"quickchart('df-2f71ec29-f333-4ed7-ab02-e01e39c9c740')\"\n",
              "            title=\"Suggest charts\"\n",
              "            style=\"display:none;\">\n",
              "\n",
              "<svg xmlns=\"http://www.w3.org/2000/svg\" height=\"24px\"viewBox=\"0 0 24 24\"\n",
              "     width=\"24px\">\n",
              "    <g>\n",
              "        <path d=\"M19 3H5c-1.1 0-2 .9-2 2v14c0 1.1.9 2 2 2h14c1.1 0 2-.9 2-2V5c0-1.1-.9-2-2-2zM9 17H7v-7h2v7zm4 0h-2V7h2v10zm4 0h-2v-4h2v4z\"/>\n",
              "    </g>\n",
              "</svg>\n",
              "  </button>\n",
              "\n",
              "<style>\n",
              "  .colab-df-quickchart {\n",
              "      --bg-color: #E8F0FE;\n",
              "      --fill-color: #1967D2;\n",
              "      --hover-bg-color: #E2EBFA;\n",
              "      --hover-fill-color: #174EA6;\n",
              "      --disabled-fill-color: #AAA;\n",
              "      --disabled-bg-color: #DDD;\n",
              "  }\n",
              "\n",
              "  [theme=dark] .colab-df-quickchart {\n",
              "      --bg-color: #3B4455;\n",
              "      --fill-color: #D2E3FC;\n",
              "      --hover-bg-color: #434B5C;\n",
              "      --hover-fill-color: #FFFFFF;\n",
              "      --disabled-bg-color: #3B4455;\n",
              "      --disabled-fill-color: #666;\n",
              "  }\n",
              "\n",
              "  .colab-df-quickchart {\n",
              "    background-color: var(--bg-color);\n",
              "    border: none;\n",
              "    border-radius: 50%;\n",
              "    cursor: pointer;\n",
              "    display: none;\n",
              "    fill: var(--fill-color);\n",
              "    height: 32px;\n",
              "    padding: 0;\n",
              "    width: 32px;\n",
              "  }\n",
              "\n",
              "  .colab-df-quickchart:hover {\n",
              "    background-color: var(--hover-bg-color);\n",
              "    box-shadow: 0 1px 2px rgba(60, 64, 67, 0.3), 0 1px 3px 1px rgba(60, 64, 67, 0.15);\n",
              "    fill: var(--button-hover-fill-color);\n",
              "  }\n",
              "\n",
              "  .colab-df-quickchart-complete:disabled,\n",
              "  .colab-df-quickchart-complete:disabled:hover {\n",
              "    background-color: var(--disabled-bg-color);\n",
              "    fill: var(--disabled-fill-color);\n",
              "    box-shadow: none;\n",
              "  }\n",
              "\n",
              "  .colab-df-spinner {\n",
              "    border: 2px solid var(--fill-color);\n",
              "    border-color: transparent;\n",
              "    border-bottom-color: var(--fill-color);\n",
              "    animation:\n",
              "      spin 1s steps(1) infinite;\n",
              "  }\n",
              "\n",
              "  @keyframes spin {\n",
              "    0% {\n",
              "      border-color: transparent;\n",
              "      border-bottom-color: var(--fill-color);\n",
              "      border-left-color: var(--fill-color);\n",
              "    }\n",
              "    20% {\n",
              "      border-color: transparent;\n",
              "      border-left-color: var(--fill-color);\n",
              "      border-top-color: var(--fill-color);\n",
              "    }\n",
              "    30% {\n",
              "      border-color: transparent;\n",
              "      border-left-color: var(--fill-color);\n",
              "      border-top-color: var(--fill-color);\n",
              "      border-right-color: var(--fill-color);\n",
              "    }\n",
              "    40% {\n",
              "      border-color: transparent;\n",
              "      border-right-color: var(--fill-color);\n",
              "      border-top-color: var(--fill-color);\n",
              "    }\n",
              "    60% {\n",
              "      border-color: transparent;\n",
              "      border-right-color: var(--fill-color);\n",
              "    }\n",
              "    80% {\n",
              "      border-color: transparent;\n",
              "      border-right-color: var(--fill-color);\n",
              "      border-bottom-color: var(--fill-color);\n",
              "    }\n",
              "    90% {\n",
              "      border-color: transparent;\n",
              "      border-bottom-color: var(--fill-color);\n",
              "    }\n",
              "  }\n",
              "</style>\n",
              "\n",
              "  <script>\n",
              "    async function quickchart(key) {\n",
              "      const quickchartButtonEl =\n",
              "        document.querySelector('#' + key + ' button');\n",
              "      quickchartButtonEl.disabled = true;  // To prevent multiple clicks.\n",
              "      quickchartButtonEl.classList.add('colab-df-spinner');\n",
              "      try {\n",
              "        const charts = await google.colab.kernel.invokeFunction(\n",
              "            'suggestCharts', [key], {});\n",
              "      } catch (error) {\n",
              "        console.error('Error during call to suggestCharts:', error);\n",
              "      }\n",
              "      quickchartButtonEl.classList.remove('colab-df-spinner');\n",
              "      quickchartButtonEl.classList.add('colab-df-quickchart-complete');\n",
              "    }\n",
              "    (() => {\n",
              "      let quickchartButtonEl =\n",
              "        document.querySelector('#df-2f71ec29-f333-4ed7-ab02-e01e39c9c740 button');\n",
              "      quickchartButtonEl.style.display =\n",
              "        google.colab.kernel.accessAllowed ? 'block' : 'none';\n",
              "    })();\n",
              "  </script>\n",
              "</div>\n",
              "    </div>\n",
              "  </div>\n"
            ],
            "application/vnd.google.colaboratory.intrinsic+json": {
              "type": "dataframe",
              "variable_name": "df"
            }
          },
          "metadata": {},
          "execution_count": 2
        }
      ]
    },
    {
      "cell_type": "code",
      "source": [
        "df.info()"
      ],
      "metadata": {
        "colab": {
          "base_uri": "https://localhost:8080/"
        },
        "id": "PE5HhcS1xHNO",
        "outputId": "19e2e7ae-15ca-4ffe-b98e-9ffe8c167a1d"
      },
      "execution_count": 3,
      "outputs": [
        {
          "output_type": "stream",
          "name": "stdout",
          "text": [
            "<class 'pandas.core.frame.DataFrame'>\n",
            "RangeIndex: 159256 entries, 0 to 159255\n",
            "Data columns (total 24 columns):\n",
            " #   Column               Non-Null Count   Dtype  \n",
            "---  ------               --------------   -----  \n",
            " 0   id                   159256 non-null  int64  \n",
            " 1   age                  159256 non-null  int64  \n",
            " 2   height(cm)           159256 non-null  int64  \n",
            " 3   weight(kg)           159256 non-null  int64  \n",
            " 4   waist(cm)            159256 non-null  float64\n",
            " 5   eyesight(left)       159256 non-null  float64\n",
            " 6   eyesight(right)      159256 non-null  float64\n",
            " 7   hearing(left)        159256 non-null  int64  \n",
            " 8   hearing(right)       159256 non-null  int64  \n",
            " 9   systolic             159256 non-null  int64  \n",
            " 10  relaxation           159256 non-null  int64  \n",
            " 11  fasting blood sugar  159256 non-null  int64  \n",
            " 12  Cholesterol          159256 non-null  int64  \n",
            " 13  triglyceride         159256 non-null  int64  \n",
            " 14  HDL                  159256 non-null  int64  \n",
            " 15  LDL                  159256 non-null  int64  \n",
            " 16  hemoglobin           159256 non-null  float64\n",
            " 17  Urine protein        159256 non-null  int64  \n",
            " 18  serum creatinine     159256 non-null  float64\n",
            " 19  AST                  159256 non-null  int64  \n",
            " 20  ALT                  159256 non-null  int64  \n",
            " 21  Gtp                  159256 non-null  int64  \n",
            " 22  dental caries        159256 non-null  int64  \n",
            " 23  smoking              159256 non-null  int64  \n",
            "dtypes: float64(5), int64(19)\n",
            "memory usage: 29.2 MB\n"
          ]
        }
      ]
    },
    {
      "cell_type": "code",
      "source": [
        "df.isnull().sum()"
      ],
      "metadata": {
        "colab": {
          "base_uri": "https://localhost:8080/"
        },
        "id": "VccMjVBexQS6",
        "outputId": "bbef9492-c41c-4fa5-acfe-ace10f6008bf"
      },
      "execution_count": 4,
      "outputs": [
        {
          "output_type": "execute_result",
          "data": {
            "text/plain": [
              "id                     0\n",
              "age                    0\n",
              "height(cm)             0\n",
              "weight(kg)             0\n",
              "waist(cm)              0\n",
              "eyesight(left)         0\n",
              "eyesight(right)        0\n",
              "hearing(left)          0\n",
              "hearing(right)         0\n",
              "systolic               0\n",
              "relaxation             0\n",
              "fasting blood sugar    0\n",
              "Cholesterol            0\n",
              "triglyceride           0\n",
              "HDL                    0\n",
              "LDL                    0\n",
              "hemoglobin             0\n",
              "Urine protein          0\n",
              "serum creatinine       0\n",
              "AST                    0\n",
              "ALT                    0\n",
              "Gtp                    0\n",
              "dental caries          0\n",
              "smoking                0\n",
              "dtype: int64"
            ]
          },
          "metadata": {},
          "execution_count": 4
        }
      ]
    },
    {
      "cell_type": "code",
      "source": [
        "df['smoking'].value_counts()"
      ],
      "metadata": {
        "colab": {
          "base_uri": "https://localhost:8080/"
        },
        "id": "Ie5FonIAxYsF",
        "outputId": "ea6f4def-9e7d-44dc-cc42-f6fdc1256dad"
      },
      "execution_count": 5,
      "outputs": [
        {
          "output_type": "execute_result",
          "data": {
            "text/plain": [
              "0    89603\n",
              "1    69653\n",
              "Name: smoking, dtype: int64"
            ]
          },
          "metadata": {},
          "execution_count": 5
        }
      ]
    },
    {
      "cell_type": "code",
      "source": [
        "corr = df.corr()\n",
        "corr.smoking.sort_values(ascending=False)"
      ],
      "metadata": {
        "colab": {
          "base_uri": "https://localhost:8080/"
        },
        "id": "uUwulDhJxdxG",
        "outputId": "0a314f51-b067-4fab-f5c1-c3d42077059a"
      },
      "execution_count": 6,
      "outputs": [
        {
          "output_type": "execute_result",
          "data": {
            "text/plain": [
              "smoking                1.000000\n",
              "hemoglobin             0.450679\n",
              "height(cm)             0.447111\n",
              "weight(kg)             0.351748\n",
              "triglyceride           0.331975\n",
              "Gtp                    0.305561\n",
              "serum creatinine       0.272979\n",
              "waist(cm)              0.262715\n",
              "ALT                    0.163016\n",
              "eyesight(right)        0.109781\n",
              "relaxation             0.109501\n",
              "dental caries          0.106636\n",
              "eyesight(left)         0.100420\n",
              "fasting blood sugar    0.096534\n",
              "AST                    0.059394\n",
              "systolic               0.058642\n",
              "id                    -0.000632\n",
              "Urine protein         -0.028548\n",
              "hearing(right)        -0.036858\n",
              "hearing(left)         -0.038219\n",
              "Cholesterol           -0.051896\n",
              "LDL                   -0.072285\n",
              "age                   -0.206033\n",
              "HDL                   -0.271186\n",
              "Name: smoking, dtype: float64"
            ]
          },
          "metadata": {},
          "execution_count": 6
        }
      ]
    },
    {
      "cell_type": "code",
      "source": [
        "sns.heatmap(corr, annot=False)"
      ],
      "metadata": {
        "colab": {
          "base_uri": "https://localhost:8080/",
          "height": 573
        },
        "id": "o9yuzpCjxoeX",
        "outputId": "1fbd1b62-f935-407b-b62c-00f983596c63"
      },
      "execution_count": 7,
      "outputs": [
        {
          "output_type": "execute_result",
          "data": {
            "text/plain": [
              "<Axes: >"
            ]
          },
          "metadata": {},
          "execution_count": 7
        },
        {
          "output_type": "display_data",
          "data": {
            "text/plain": [
              "<Figure size 640x480 with 2 Axes>"
            ],
            "image/png": "[encoded data removed]"
          },
          "metadata": {}
        }
      ]
    },
    {
      "cell_type": "code",
      "source": [
        "x = df.drop(['id','smoking'],axis=1)\n",
        "y = df.smoking\n",
        "print(x)\n",
        "print(y)"
      ],
      "metadata": {
        "colab": {
          "base_uri": "https://localhost:8080/"
        },
        "id": "bHH59CgPx0sG",
        "outputId": "bb031d08-ebc3-4a30-ce53-1f5f23df82f5"
      },
      "execution_count": 8,
      "outputs": [
        {
          "output_type": "stream",
          "name": "stdout",
          "text": [
            "        age  height(cm)  weight(kg)  waist(cm)  eyesight(left)  \\\n",
            "0        55         165          60       81.0             0.5   \n",
            "1        70         165          65       89.0             0.6   \n",
            "2        20         170          75       81.0             0.4   \n",
            "3        35         180          95      105.0             1.5   \n",
            "4        30         165          60       80.5             1.5   \n",
            "...     ...         ...         ...        ...             ...   \n",
            "159251   40         155          45       69.0             1.5   \n",
            "159252   50         155          75       82.0             1.0   \n",
            "159253   40         160          50       66.0             1.5   \n",
            "159254   50         165          75       92.0             1.2   \n",
            "159255   40         145          45       76.4             1.0   \n",
            "\n",
            "        eyesight(right)  hearing(left)  hearing(right)  systolic  relaxation  \\\n",
            "0                   0.6              1               1       135          87   \n",
            "1                   0.7              2               2       146          83   \n",
            "2                   0.5              1               1       118          75   \n",
            "3                   1.2              1               1       131          88   \n",
            "4                   1.0              1               1       121          76   \n",
            "...                 ...            ...             ...       ...         ...   \n",
            "159251              2.0              1               1       127          80   \n",
            "159252              1.0              1               1       120          80   \n",
            "159253              1.0              1               1       114          70   \n",
            "159254              1.0              1               1       121          90   \n",
            "159255              1.2              1               1       125          87   \n",
            "\n",
            "        ...  triglyceride  HDL  LDL  hemoglobin  Urine protein  \\\n",
            "0       ...           300   40   75        16.5              1   \n",
            "1       ...            55   57  126        16.2              1   \n",
            "2       ...           197   45   93        17.4              1   \n",
            "3       ...           203   38  102        15.9              1   \n",
            "4       ...            87   44   93        15.4              1   \n",
            "...     ...           ...  ...  ...         ...            ...   \n",
            "159251  ...            47   72  159        14.5              1   \n",
            "159252  ...           202   64  108        14.5              1   \n",
            "159253  ...            45   87   93        10.9              1   \n",
            "159254  ...           148   55   80        14.4              1   \n",
            "159255  ...            87   87   81        14.0              1   \n",
            "\n",
            "        serum creatinine  AST  ALT  Gtp  dental caries  \n",
            "0                    1.0   22   25   27              0  \n",
            "1                    1.1   27   23   37              1  \n",
            "2                    0.8   27   31   53              0  \n",
            "3                    1.0   20   27   30              1  \n",
            "4                    0.8   19   13   17              0  \n",
            "...                  ...  ...  ...  ...            ...  \n",
            "159251               0.8   25   26   13              0  \n",
            "159252               0.6   21   20   18              0  \n",
            "159253               0.6   15    9   12              0  \n",
            "159254               1.1   22   17   37              0  \n",
            "159255               0.8   21   16   17              0  \n",
            "\n",
            "[159256 rows x 22 columns]\n",
            "0         1\n",
            "1         0\n",
            "2         1\n",
            "3         0\n",
            "4         1\n",
            "         ..\n",
            "159251    0\n",
            "159252    0\n",
            "159253    0\n",
            "159254    1\n",
            "159255    0\n",
            "Name: smoking, Length: 159256, dtype: int64\n"
          ]
        }
      ]
    },
    {
      "cell_type": "code",
      "source": [
        "Xtrain, Xtest, Ytrain, Ytest = train_test_split(x, y, test_size=0.2, random_state=42)\n",
        "Xtrain.shape, Xtest.shape, Ytrain.shape, Ytest.shape"
      ],
      "metadata": {
        "colab": {
          "base_uri": "https://localhost:8080/"
        },
        "id": "zHqwEMxJ36uE",
        "outputId": "ca0f4d0f-fc04-43b2-9aaf-fb79ac297c0c"
      },
      "execution_count": 30,
      "outputs": [
        {
          "output_type": "execute_result",
          "data": {
            "text/plain": [
              "((127404, 22), (31852, 22), (127404,), (31852,))"
            ]
          },
          "metadata": {},
          "execution_count": 30
        }
      ]
    },
    {
      "cell_type": "code",
      "source": [
        "model.summary()"
      ],
      "metadata": {
        "colab": {
          "base_uri": "https://localhost:8080/"
        },
        "id": "0T2jdryH54vh",
        "outputId": "94a4de89-40a6-4581-ae6e-6816bef03087"
      },
      "execution_count": 36,
      "outputs": [
        {
          "output_type": "stream",
          "name": "stdout",
          "text": [
            "Model: \"sequential_6\"\n",
            "_________________________________________________________________\n",
            " Layer (type)                Output Shape              Param #   \n",
            "=================================================================\n",
            " dense_12 (Dense)            (None, 64)                1472      \n",
            "                                                                 \n",
            " dense_13 (Dense)            (None, 1)                 65        \n",
            "                                                                 \n",
            "=================================================================\n",
            "Total params: 1537 (6.00 KB)\n",
            "Trainable params: 1537 (6.00 KB)\n",
            "Non-trainable params: 0 (0.00 Byte)\n",
            "_________________________________________________________________\n"
          ]
        }
      ]
    },
    {
      "cell_type": "code",
      "source": [
        "import tensorflow as tf\n",
        "from tensorflow import keras\n",
        "from sklearn.metrics import accuracy_score\n",
        "\n",
        "# Define the model\n",
        "model = keras.Sequential([\n",
        "    keras.layers.Dense(64, activation='relu', input_shape=(Xtrain.shape[1],)),\n",
        "    keras.layers.Dense(1, activation='sigmoid')\n",
        "])\n",
        "\n",
        "# Compile the model\n",
        "model.compile(optimizer='adam', loss='binary_crossentropy', metrics=['accuracy'])\n",
        "\n",
        "# Train the model\n",
        "model.fit(Xtrain, Ytrain, epochs=10, batch_size=32, validation_split=0.2)\n",
        "\n",
        "# Evaluate the model on the test set\n",
        "test_loss, test_acc = model.evaluate(Xtest, Ytest)\n",
        "print(f'Test Accuracy: {test_acc}')\n",
        "\n",
        "# Make predictions\n",
        "y_pred = model.predict(Xtest)\n",
        "y_pred_binary = (y_pred > 0.5).astype(int)\n",
        "\n",
        "# Evaluate accuracy\n",
        "accuracy = accuracy_score(Ytest, y_pred_binary)\n",
        "print(f'Accuracy on Test Set: {accuracy}')\n"
      ],
      "metadata": {
        "colab": {
          "base_uri": "https://localhost:8080/"
        },
        "id": "KD2qEz5xyU9P",
        "outputId": "0d04e366-62e6-4a9f-fe78-a8086d82c049"
      },
      "execution_count": 31,
      "outputs": [
        {
          "output_type": "stream",
          "name": "stdout",
          "text": [
            "Epoch 1/10\n",
            "3186/3186 [==============================] - 10s 3ms/step - loss: 0.7187 - accuracy: 0.6953 - val_loss: 0.5620 - val_accuracy: 0.7415\n",
            "Epoch 2/10\n",
            "3186/3186 [==============================] - 9s 3ms/step - loss: 0.6015 - accuracy: 0.7098 - val_loss: 0.6041 - val_accuracy: 0.7164\n",
            "Epoch 3/10\n",
            "3186/3186 [==============================] - 8s 2ms/step - loss: 0.5777 - accuracy: 0.7187 - val_loss: 0.8379 - val_accuracy: 0.6673\n",
            "Epoch 4/10\n",
            "3186/3186 [==============================] - 8s 3ms/step - loss: 0.5732 - accuracy: 0.7181 - val_loss: 0.5285 - val_accuracy: 0.7467\n",
            "Epoch 5/10\n",
            "3186/3186 [==============================] - 7s 2ms/step - loss: 0.5614 - accuracy: 0.7206 - val_loss: 0.5074 - val_accuracy: 0.7471\n",
            "Epoch 6/10\n",
            "3186/3186 [==============================] - 9s 3ms/step - loss: 0.5504 - accuracy: 0.7251 - val_loss: 0.4984 - val_accuracy: 0.7490\n",
            "Epoch 7/10\n",
            "3186/3186 [==============================] - 8s 3ms/step - loss: 0.5439 - accuracy: 0.7245 - val_loss: 0.5274 - val_accuracy: 0.7284\n",
            "Epoch 8/10\n",
            "3186/3186 [==============================] - 7s 2ms/step - loss: 0.5353 - accuracy: 0.7292 - val_loss: 0.5865 - val_accuracy: 0.6778\n",
            "Epoch 9/10\n",
            "3186/3186 [==============================] - 8s 2ms/step - loss: 0.5288 - accuracy: 0.7315 - val_loss: 0.4966 - val_accuracy: 0.7497\n",
            "Epoch 10/10\n",
            "3186/3186 [==============================] - 7s 2ms/step - loss: 0.5242 - accuracy: 0.7348 - val_loss: 0.5287 - val_accuracy: 0.7376\n",
            "996/996 [==============================] - 2s 2ms/step - loss: 0.5305 - accuracy: 0.7386\n",
            "Test Accuracy: 0.7386349439620972\n",
            "996/996 [==============================] - 1s 1ms/step\n",
            "Accuracy on Test Set: 0.7386349365816903\n"
          ]
        }
      ]
    },
    {
      "cell_type": "code",
      "source": [
        "from sklearn.metrics import classification_report, confusion_matrix\n",
        "print(classification_report(Ytest, y_pred_binary))"
      ],
      "metadata": {
        "colab": {
          "base_uri": "https://localhost:8080/"
        },
        "id": "nEUOEumF4z11",
        "outputId": "ac896ace-b80a-4421-84f0-8bef0cc3b59d"
      },
      "execution_count": 33,
      "outputs": [
        {
          "output_type": "stream",
          "name": "stdout",
          "text": [
            "              precision    recall  f1-score   support\n",
            "\n",
            "           0       0.88      0.62      0.73     17783\n",
            "           1       0.65      0.89      0.75     14069\n",
            "\n",
            "    accuracy                           0.74     31852\n",
            "   macro avg       0.76      0.75      0.74     31852\n",
            "weighted avg       0.78      0.74      0.74     31852\n",
            "\n"
          ]
        }
      ]
    },
    {
      "cell_type": "code",
      "source": [
        "sns.heatmap(confusion_matrix(Ytest, y_pred_binary), annot=True)\n",
        "plt.xlabel('Practical Values')\n",
        "plt.ylabel('Predicted Values')\n",
        "plt.title('Practical vs Predicted Values')"
      ],
      "metadata": {
        "colab": {
          "base_uri": "https://localhost:8080/",
          "height": 489
        },
        "id": "_zSqsjPk5MaJ",
        "outputId": "fbc0cb9a-2461-4efa-f8aa-e9a2dc2743cc"
      },
      "execution_count": 35,
      "outputs": [
        {
          "output_type": "execute_result",
          "data": {
            "text/plain": [
              "Text(0.5, 1.0, 'Practical vs Predicted Values')"
            ]
          },
          "metadata": {},
          "execution_count": 35
        },
        {
          "output_type": "display_data",
          "data": {
            "text/plain": [
              "<Figure size 640x480 with 2 Axes>"
            ],
            "image/png": "[encoded data removed]"
          },
          "metadata": {}
        }
      ]
    }
  ]
}